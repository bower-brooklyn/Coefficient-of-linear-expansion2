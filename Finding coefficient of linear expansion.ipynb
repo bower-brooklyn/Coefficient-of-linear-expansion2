{
 "cells": [
  {
   "cell_type": "code",
   "execution_count": 22,
   "metadata": {},
   "outputs": [],
   "source": [
    "import numpy as np"
   ]
  },
  {
   "cell_type": "markdown",
   "metadata": {},
   "source": [
    "Goal: Write functions for rule 3 and 4. Find alpha and uncertainity of alpha"
   ]
  },
  {
   "cell_type": "code",
   "execution_count": 23,
   "metadata": {},
   "outputs": [],
   "source": [
    "def colinear(deltL,L,Ti,Tf):\n",
    "    Aph = deltL/(L*(Tf - Ti))\n",
    "    return Aph"
   ]
  },
  {
   "cell_type": "code",
   "execution_count": 24,
   "metadata": {},
   "outputs": [],
   "source": [
    "Len = 1.05\n",
    "deltaL = 0.00125\n",
    "Temi = 23.5\n",
    "Temf = 92.5\n",
    "deltaT = Temf - Temi\n",
    "coefficient = colinear(deltaL,Len,Temi,Temf)\n",
    "\n",
    "q = coefficient\n",
    "uncL = 0.001\n",
    "uncdeltaL = 0.0001\n",
    "uncTemi = 0.3\n",
    "uncTemf = 0.1\n",
    "co = 1\n",
    "cio = -1"
   ]
  },
  {
   "cell_type": "code",
   "execution_count": 25,
   "metadata": {},
   "outputs": [],
   "source": [
    "def rule3(dA,dB):\n",
    "    dQ = np.sqrt(dA**2+dB**2)\n",
    "    return dQ"
   ]
  },
  {
   "cell_type": "code",
   "execution_count": 26,
   "metadata": {},
   "outputs": [],
   "source": [
    "def rule4(dA,dB,dC,q,m,n,a,b,c):\n",
    "    dU = np.sqrt((m*(dA/a))**2+(n*(dB/b))**2+(n*(dC/c))**2)*abs(q)\n",
    "    return dU"
   ]
  },
  {
   "cell_type": "code",
   "execution_count": 28,
   "metadata": {},
   "outputs": [
    {
     "name": "stdout",
     "output_type": "stream",
     "text": [
      "The coefficient of linear expansion is 1.725327812284334e-05 per degrees Celsius with an uncertainty of 1.3826229618104401e-06 per degrees Celsius.\n"
     ]
    }
   ],
   "source": [
    "uncerdeltaT = rule3(uncTemi,uncTemf)\n",
    "unceralpha = rule4(uncdeltaL,uncL,uncerdeltaT,q,co,cio,deltaL,Len,deltaT)\n",
    "\n",
    "print (\"The coefficient of linear expansion is\",q,\"per degrees Celsius with an uncertainty of\",unceralpha,\"per degrees Celsius.\")"
   ]
  },
  {
   "cell_type": "code",
   "execution_count": null,
   "metadata": {},
   "outputs": [],
   "source": []
  }
 ],
 "metadata": {
  "kernelspec": {
   "display_name": "Python 3",
   "language": "python",
   "name": "python3"
  },
  "language_info": {
   "codemirror_mode": {
    "name": "ipython",
    "version": 3
   },
   "file_extension": ".py",
   "mimetype": "text/x-python",
   "name": "python",
   "nbconvert_exporter": "python",
   "pygments_lexer": "ipython3",
   "version": "3.7.3"
  }
 },
 "nbformat": 4,
 "nbformat_minor": 2
}
